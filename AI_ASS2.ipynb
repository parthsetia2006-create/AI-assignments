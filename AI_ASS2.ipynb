{
  "nbformat": 4,
  "nbformat_minor": 0,
  "metadata": {
    "colab": {
      "provenance": []
    },
    "kernelspec": {
      "name": "python3",
      "display_name": "Python 3"
    },
    "language_info": {
      "name": "python"
    }
  },
  "cells": [
    {
      "cell_type": "markdown",
      "source": [
        "Assignment 2 Numpy Parth Setia 1024140371 2O34\n",
        "\n",
        "\n",
        "\n"
      ],
      "metadata": {
        "id": "Eg-vwweZR2Dy"
      }
    },
    {
      "cell_type": "code",
      "source": [
        "#1 - Create and Inspect an Array\n",
        "#Create a 1D NumPy array containing integers from 10 to 50 (inclusive) with a step of 5.\n",
        "#Print its shape, size, and data type.\n",
        "\n",
        "import numpy as np\n",
        "arr = np.arange(10, 51, 5)\n",
        "print(\"Array:\", arr)\n",
        "print(\"Shape:\", arr.shape)\n",
        "print(\"Size:\", arr.size)\n",
        "print(\"Data type:\", arr.dtype)"
      ],
      "metadata": {
        "id": "Wk8_5_4NfJvw"
      },
      "execution_count": null,
      "outputs": []
    },
    {
      "cell_type": "code",
      "source": [
        "#2 - Generate a Matrix with Random Values\n",
        "#Generate a 4x5 NumPy array with random integers between 1 and 100.\n",
        "#Find the maximum and minimum values, along with their indices.\n",
        "\n",
        "import numpy as np\n",
        "arr = np.random.randint(1, 101, size=(4, 5))\n",
        "print(\"Array:\")\n",
        "print(arr)\n",
        "max_value = arr.max()\n",
        "min_value = arr.min()\n",
        "max_index = arr.argmax()\n",
        "min_index = arr.argmin()\n",
        "max_coords = np.unravel_index(max_index, arr.shape)\n",
        "min_coords = np.unravel_index(min_index, arr.shape)\n",
        "print(f\"Maximum value: {max_value}\")\n",
        "print(f\"Maximum coordinates: {max_coords}\")\n",
        "print(f\"Minimum value: {min_value}\")\n",
        "print(f\"Minimum coordinates: {min_coords}\")\n"
      ],
      "metadata": {
        "id": "fGnYJJeEhEuR"
      },
      "execution_count": null,
      "outputs": []
    },
    {
      "cell_type": "code",
      "source": [
        "#3 - Reshape an Array\n",
        "#Create a 1D array of numbers from 1 to 24, then reshape it into a 4x6 matrix.\n",
        "#Extract the 2nd row and 3rd column.\n",
        "\n",
        "import numpy as np\n",
        "arr = np.arange(1, 25)\n",
        "matrix = arr.reshape(4, 6)\n",
        "value = matrix[1, 2]\n",
        "print(value)"
      ],
      "metadata": {
        "id": "s36Zb1sHNpsd"
      },
      "execution_count": null,
      "outputs": []
    },
    {
      "cell_type": "code",
      "source": [
        "#4 - Boolean Indexing\n",
        "#Given a NumPy array of 15 random integers between 0 and 50.\n",
        "#find all elements greater than 25 and replace them with -1.\n",
        "\n",
        "import numpy as np\n",
        "arr = np.random.randint(0, 51, 15)\n",
        "arr[arr > 25] = -1\n",
        "print(arr)"
      ],
      "metadata": {
        "id": "vgH1GrZZOh1N"
      },
      "execution_count": null,
      "outputs": []
    },
    {
      "cell_type": "code",
      "source": [
        "#5 - Mathematical Operations\n",
        "#Create two 1D NumPy arrays:\n",
        "#a = [1, 2, 3, 4, 5] and b = [10, 20, 30, 40, 50]\n",
        "#Perform element-wise addition, subtraction, multiplication, and division.\n",
        "\n",
        "import numpy as np\n",
        "a = np.array([1, 2, 3, 4, 5])\n",
        "b = np.array([10, 20, 30, 40, 50])\n",
        "print(a + b)\n",
        "print(a - b)\n",
        "print(a * b)\n",
        "print(a / b)"
      ],
      "metadata": {
        "id": "7QRuhE40PAvT"
      },
      "execution_count": null,
      "outputs": []
    },
    {
      "cell_type": "code",
      "source": [
        "#6 - Statistical Computations\n",
        "#Generate a 5x5 matrix with random floats between 0 and 1.\n",
        "#Compute the mean, median, variance, and standard deviation.\n",
        "\n",
        "import numpy as np\n",
        "matrix = np.random.rand(5, 5)\n",
        "print(np.mean(matrix))\n",
        "print(np.median(matrix))\n",
        "print(np.var(matrix))\n",
        "print(np.std(matrix))"
      ],
      "metadata": {
        "id": "fFTjCtLJPYc7"
      },
      "execution_count": null,
      "outputs": []
    },
    {
      "cell_type": "code",
      "source": [
        "#7 - import numpy as np\n",
        "#A = np.array([[1, 2], [3, 4], [5, 6]])\n",
        "#B = np.array([[7, 8, 9], [10, 11, 12]])\n",
        "#print(A @ B)\n",
        "\n",
        "import numpy as np\n",
        "A = np.array([[1, 2], [3, 4], [5, 6]])\n",
        "B = np.array([[7, 8, 9], [10, 11, 12]])\n",
        "print(A @ B)"
      ],
      "metadata": {
        "id": "sdjBv55sP7UZ"
      },
      "execution_count": null,
      "outputs": []
    },
    {
      "cell_type": "code",
      "source": [
        "#8 - Slice and Modify\n",
        "#Create a 6x6 array of integers from 1 to 36.\n",
        "#Extract the 3x3 sub-matrix from the center and set all its values to 0.\n",
        "\n",
        "import numpy as np\n",
        "arr = np.arange(1, 37).reshape(6, 6)\n",
        "arr[1:4, 1:4] = 0\n",
        "print(arr)"
      ],
      "metadata": {
        "id": "c6_O-d0EQfuJ"
      },
      "execution_count": null,
      "outputs": []
    },
    {
      "cell_type": "code",
      "source": [
        "#9 - Use of np.where\n",
        "# NumPy array with values [5, 10, 15, 20, 25].\n",
        "#Replace all elements greater than 15 with 99, otherwise replace with 0.\n",
        "\n",
        "import numpy as np\n",
        "arr = np.array([5, 10, 15, 20, 25])\n",
        "result = np.where(arr > 15, 99, 0)\n",
        "print(result)"
      ],
      "metadata": {
        "id": "O97IPE1AQ5lL"
      },
      "execution_count": null,
      "outputs": []
    },
    {
      "cell_type": "code",
      "source": [
        "#10 - Broadcasting Example\n",
        "#Create a 4x4 array filled with 10s.\n",
        "#Subtract a 1D array [0, 1, 2, 3] from each row using NumPy broadcasting.\n",
        "\n",
        "import numpy as np\n",
        "arr = np.full((4, 4), 10)\n",
        "arr -= np.array([0, 1, 2, 3])\n",
        "print(arr)"
      ],
      "metadata": {
        "id": "psD7vMOsRQ0t"
      },
      "execution_count": null,
      "outputs": []
    }
  ]
}