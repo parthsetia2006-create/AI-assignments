{
  "cells": [
    {
      "cell_type": "markdown",
      "metadata": {
        "id": "NgayMd7cK3U6"
      },
      "source": [
        "12---\n",
        "# **Learn Python**\n",
        "---\n",
        "\n",
        "### There are 16 programs to explain the various concepts in python programming such as:\n",
        "\n",
        "- Syntex,\n",
        "- Loop,\n",
        "- if-else,\n",
        "- Data Structures,\n",
        "- Strings,\n",
        "- File Handaling,\n",
        "- Exception Handaling,\n",
        "- Random Numbers,\n",
        "- Command Line Argunment\n",
        "- Use of Libraries\n",
        "\n",
        "---\n",
        "### **Self learning resource**\n",
        "Tutorial on Python (Byte of Python) **<a href=\"https://python.swaroopch.com/\"> Click Here</a>**\n",
        "\n",
        "\n",
        "```\n",
        "\n",
        "\n",
        "\n",
        "```\n",
        "\n",
        "\n",
        "\n",
        "\n",
        "---\n",
        "# **1 Hello World**\n",
        "---\n",
        "**Learning:** How to print and run python program"
      ]
    },
    {
      "cell_type": "code",
      "execution_count": null,
      "metadata": {
        "colab": {
          "base_uri": "https://localhost:8080/"
        },
        "id": "e4JFo1WM8ZON",
        "outputId": "aa501b87-5d60-42aa-d152-371070e0686c"
      },
      "outputs": [
        {
          "output_type": "stream",
          "name": "stdout",
          "text": [
            "Hello World!\n"
          ]
        }
      ],
      "source": [
        "print (\"Hello World!\")"
      ]
    },
    {
      "cell_type": "markdown",
      "metadata": {
        "id": "oBs7uRGQPn3J"
      },
      "source": [
        "**Assingment 1.1**: WAP to print your name three times"
      ]
    },
    {
      "cell_type": "code",
      "execution_count": null,
      "metadata": {
        "colab": {
          "base_uri": "https://localhost:8080/"
        },
        "id": "OcXBRkCKAHn3",
        "outputId": "f1545b0e-1bc2-4604-c505-39c66252011f"
      },
      "outputs": [
        {
          "output_type": "stream",
          "name": "stdout",
          "text": [
            "Paramveer\n",
            "Paramveer\n",
            "Paramveer\n"
          ]
        }
      ],
      "source": [
        "name=\"Paramveer\"\n",
        "for i in range(3):\n",
        "  print(name)"
      ]
    },
    {
      "cell_type": "code",
      "execution_count": null,
      "metadata": {
        "id": "aEsu-eYpAWUU"
      },
      "outputs": [],
      "source": []
    },
    {
      "cell_type": "markdown",
      "metadata": {
        "id": "EOp1wf9hlyC2"
      },
      "source": [
        "---\n",
        "# **2 Add numbers and Concatinate strings**\n",
        "**Learning:** How to declare variable, add, concatenate and print the result.\n",
        "\n",
        "---\n",
        "### **2.1 Add two numbers**\n"
      ]
    },
    {
      "cell_type": "code",
      "execution_count": null,
      "metadata": {
        "colab": {
          "base_uri": "https://localhost:8080/"
        },
        "id": "sk_6l4N6l-vH",
        "outputId": "2a08f4b5-f512-4375-bdc5-4c18e1611483"
      },
      "outputs": [
        {
          "output_type": "stream",
          "name": "stdout",
          "text": [
            "10  +  220  =  230\n"
          ]
        }
      ],
      "source": [
        "a = 10\n",
        "b = 220\n",
        "c = a + b       # Add two numbers\n",
        "print (a, \" + \", b, \" = \", c)"
      ]
    },
    {
      "cell_type": "markdown",
      "metadata": {
        "id": "iGXiAQqI4AvC"
      },
      "source": [
        "\n",
        "---\n",
        "### **2.2 Concatinate two strings**\n",
        "---"
      ]
    },
    {
      "cell_type": "code",
      "execution_count": null,
      "metadata": {
        "colab": {
          "base_uri": "https://localhost:8080/"
        },
        "id": "o-kCSsW7lxNF",
        "outputId": "1fddc934-953c-4792-fd62-29c2fb1a5f75"
      },
      "outputs": [
        {
          "output_type": "stream",
          "name": "stdout",
          "text": [
            "Paramveer  +   Singh  =  Paramveer Singh\n"
          ]
        }
      ],
      "source": [
        "a = \"Paramveer\"\n",
        "b = \" Singh\"\n",
        "c = a + b\t\t# Concatinate two strings\n",
        "print (a, \" + \", b, \" = \", c)"
      ]
    },
    {
      "cell_type": "markdown",
      "metadata": {
        "id": "DOZfIRp04ZvM"
      },
      "source": [
        "\n",
        "---\n",
        "### **2.3 Concatinate string with number**\n",
        "---"
      ]
    },
    {
      "cell_type": "code",
      "execution_count": null,
      "metadata": {
        "colab": {
          "base_uri": "https://localhost:8080/"
        },
        "id": "BuJp15Fd4ZvS",
        "outputId": "e1fc408e-952e-482a-9825-9cd2618e6c5a"
      },
      "outputs": [
        {
          "output_type": "stream",
          "name": "stdout",
          "text": [
            "Paramveer  +  100  =  Paramveer100\n"
          ]
        }
      ],
      "source": [
        "a = \"Paramveer\"\n",
        "b = 100\n",
        "c = a + str(b)\t\t# Concatinate string with number\n",
        "print (a, \" + \", b, \" = \", c)\n"
      ]
    },
    {
      "cell_type": "code",
      "execution_count": null,
      "metadata": {
        "id": "9z3AJbBaAaC7"
      },
      "outputs": [],
      "source": [
        "num1 = int(input(\"enter the first number\\n\"))\n",
        "num2 = int(input(\"enter the second number\\n\"))\n",
        "num3 = int(input(\"enter the third number\\n\"))\n",
        "sum = num1 + num2 + num3\n",
        "print(\"The result on addition is:\\t\", sum)"
      ]
    },
    {
      "cell_type": "code",
      "execution_count": null,
      "metadata": {
        "id": "2vENuDuzBML5"
      },
      "outputs": [],
      "source": [
        "str1 = input(\"Enter first string.\\n\")\n",
        "str2 = input(\"Enter second string.\\n\")\n",
        "str3 = input(\"Enter third string.\\n\")\n",
        "result = str1 + str2 + str3\n",
        "print(\"The concatinated string is:\\t\", result)"
      ]
    },
    {
      "cell_type": "markdown",
      "metadata": {
        "id": "hA7PLi-m4V8s"
      },
      "source": [
        "**Assingment 2.1**: WAP to add three numbers and print the result.\n",
        "\n",
        "**Assingment 2.2**: WAP to concatinate three strings and print the result."
      ]
    },
    {
      "cell_type": "markdown",
      "metadata": {
        "id": "z1uDaVtK5tX_"
      },
      "source": [
        "---\n",
        "# **3 Input from user**\n",
        "**Learning:** How to take input from user\n",
        "\n",
        "---\n",
        "### **3.1 Input two strings from user and concatinate them**\n",
        "---"
      ]
    },
    {
      "cell_type": "code",
      "execution_count": null,
      "metadata": {
        "id": "aDsOjDWs5tYB"
      },
      "outputs": [],
      "source": [
        "a = input(\"Enter First String: \")\n",
        "b = input(\"Enter Second String: \")\n",
        "c = a + b\n",
        "print  (a, \" + \", b, \" = \", c)\n",
        "\n",
        "# Run the program with (1) Two strings and (2) Two numbers"
      ]
    },
    {
      "cell_type": "markdown",
      "metadata": {
        "id": "4CAypM6A5Jmx"
      },
      "source": [
        "---\n",
        "### **3.2 Input two numbers from user and add them**\n",
        "---"
      ]
    },
    {
      "cell_type": "code",
      "execution_count": null,
      "metadata": {
        "id": "EzB8G_a95d4X"
      },
      "outputs": [],
      "source": [
        "a = int(input(\"Enter First Number.\\n\"))\n",
        "b = int(input(\"Enter Second Number.\\n\"))\n",
        "c = a + b\n",
        "print (a, \" + \", b, \" = \", c)"
      ]
    },
    {
      "cell_type": "code",
      "execution_count": null,
      "metadata": {
        "id": "N3QOoaqL_vZc"
      },
      "outputs": [],
      "source": []
    },
    {
      "cell_type": "markdown",
      "metadata": {
        "id": "VCXIhMtP-puV"
      },
      "source": [
        "---\n",
        "# **4 Loop**\n",
        "**Learning:** Learn various loops.\n",
        "\n",
        "---\n",
        "### **4.1 While Loop**"
      ]
    },
    {
      "cell_type": "code",
      "execution_count": null,
      "metadata": {
        "id": "ESdyGeh9-puX"
      },
      "outputs": [],
      "source": [
        "i = 1\n",
        "while i <= 10:\n",
        "\tprint (i)\n",
        "\ti += 1\n"
      ]
    },
    {
      "cell_type": "markdown",
      "metadata": {
        "id": "rd_F8ksi-puZ"
      },
      "source": [
        "---\n",
        "### **4.2 Range Function**\n",
        "---"
      ]
    },
    {
      "cell_type": "code",
      "execution_count": null,
      "metadata": {
        "id": "_U_Of2tu-puZ"
      },
      "outputs": [],
      "source": [
        "print (\"range(10) = \", list(range(10)))\n",
        "print (\"range(10,20) = \", list(range(10,20)))\n",
        "print (\"range(0,20,2) = \", list(range(2,20,2)))\n",
        "print (\"range(-10,-20,2) = \", list(range(-10,-20,2)))\n",
        "print (\"range(-10,-20,-2) = \", list(range(-10,-20,-2)))"
      ]
    },
    {
      "cell_type": "code",
      "execution_count": null,
      "metadata": {
        "id": "YZHELkTcETXx"
      },
      "outputs": [],
      "source": [
        "range(0,10)"
      ]
    },
    {
      "cell_type": "markdown",
      "metadata": {
        "id": "Xny977qN_f_f"
      },
      "source": [
        "---\n",
        "### **4.3 For loop**\n",
        "---\n",
        "### **4.3.1 For loop - Version 1**"
      ]
    },
    {
      "cell_type": "code",
      "execution_count": null,
      "metadata": {
        "id": "JXsAol2L_f_h"
      },
      "outputs": [],
      "source": [
        "for i in range(0,10):\n",
        "\tprint (i)"
      ]
    },
    {
      "cell_type": "markdown",
      "metadata": {
        "id": "Xk5XRRV8_gMq"
      },
      "source": [
        "---\n",
        "### **4.3.2 For loop - Version 2**\n",
        "---"
      ]
    },
    {
      "cell_type": "code",
      "execution_count": null,
      "metadata": {
        "id": "w8scyduB_gMr"
      },
      "outputs": [],
      "source": [
        "for i in range(0,20,2):\n",
        "\tprint (i)"
      ]
    },
    {
      "cell_type": "markdown",
      "metadata": {
        "id": "_NNQrHRXAZ8a"
      },
      "source": [
        "---\n",
        "### **4.3.3 For loop - Version 3**\n",
        "---"
      ]
    },
    {
      "cell_type": "code",
      "execution_count": null,
      "metadata": {
        "id": "18Im8yX7AZ8a"
      },
      "outputs": [],
      "source": [
        "for i in range(0,-10,-1):\n",
        "\tprint (i)"
      ]
    },
    {
      "cell_type": "markdown",
      "metadata": {
        "id": "Meq_Hv4RAaHS"
      },
      "source": [
        "---\n",
        "### **4.4 Print table of 5**\n",
        "---"
      ]
    },
    {
      "cell_type": "code",
      "execution_count": null,
      "metadata": {
        "id": "EvPN2wvOAaHT"
      },
      "outputs": [],
      "source": [
        "for i in range(1,11):\n",
        "\tprint (5,\" x \", i , \" = \", i * 5)"
      ]
    },
    {
      "cell_type": "markdown",
      "metadata": {
        "id": "aZErlsXYAaPu"
      },
      "source": [
        "---\n",
        "### **4.5 Sum all numbers from 1 to 10**\n",
        "---\n",
        "### **4.5.1 Version 1**"
      ]
    },
    {
      "cell_type": "code",
      "execution_count": null,
      "metadata": {
        "id": "ddCg6qxQAaPv"
      },
      "outputs": [],
      "source": [
        "s = 0\n",
        "for i in range(1,11):\n",
        "\ts += i\n",
        "print (\"Sum is = \",s)"
      ]
    },
    {
      "cell_type": "markdown",
      "metadata": {
        "id": "UucWFIAt_gV_"
      },
      "source": [
        "---\n",
        "### **4.5.2 Version 2**\n",
        "---"
      ]
    },
    {
      "cell_type": "code",
      "execution_count": null,
      "metadata": {
        "id": "7ClH4S7oB_-t"
      },
      "outputs": [],
      "source": [
        "n = int(input(\"Enter a number\"))\n",
        "total = 0\n",
        "for i in range (1, n + 1):\n",
        "     total += i\n",
        "print(\"The sum from 1 to\", n, \"is:\", total)"
      ]
    },
    {
      "cell_type": "code",
      "execution_count": null,
      "metadata": {
        "id": "SYt28h1mB2he"
      },
      "outputs": [],
      "source": [
        "n = int(input(\"Enter a number to print its table: \"))\n",
        "print(f\"Multiplication Table of {n}:\")\n",
        "for i in range (1,11):\n",
        "  print(f\"{n} x {i} = {n*i}\")"
      ]
    },
    {
      "cell_type": "code",
      "execution_count": null,
      "metadata": {
        "id": "cD3y-1lM_gWB"
      },
      "outputs": [],
      "source": [
        "sum = 0\n",
        "for i in range(1,11):\n",
        "    sum += i\n",
        "print (\"Sum is \", sum)"
      ]
    },
    {
      "cell_type": "code",
      "execution_count": null,
      "metadata": {
        "id": "4VR22BvPBtkt"
      },
      "outputs": [],
      "source": [
        "print(\"\\nTable of 7:\\n\")\n",
        "for i in range (1,11):\n",
        "  print(f\"7 x {i} = {7 * i}\")\n",
        "print(\"\\nTable of 9:\")\n",
        "for i in range (1,11):\n",
        "  print(f\"9 x {i} = {9 * i}\")"
      ]
    },
    {
      "cell_type": "markdown",
      "metadata": {
        "id": "DnUEH0WQ-pua"
      },
      "source": [
        "**Assingment 4.1:** WAP to print the table of 7, 9.\n",
        "\n",
        "**Assingment 4.2:** WAP to print the table of n and n is given by user.\n",
        "\n",
        "**Assingment 4.3:** WAP to add all the numbers from 1 to n and n is given by user."
      ]
    },
    {
      "cell_type": "markdown",
      "metadata": {
        "id": "6eraxEhZCJRU"
      },
      "source": [
        "---\n",
        "# **5 If-Else - Conditional Checking**\n",
        "**Learning:** if-else Condition\n",
        "\n",
        "---\n",
        "### **5.1 Input two numbers from user and compare them**"
      ]
    },
    {
      "cell_type": "code",
      "execution_count": null,
      "metadata": {
        "id": "63a8CKQ9CJRV"
      },
      "outputs": [],
      "source": [
        "a = int(input(\"Enter First No.\\n\"))\n",
        "b = int(input(\"Enter Second No.\\n\"))\n",
        "if  (a > b):\n",
        "\tprint (a,\" > \",b)\n",
        "else:\n",
        "\tprint (a,\" < \",b)"
      ]
    },
    {
      "cell_type": "markdown",
      "metadata": {
        "id": "zPayD7lwCJRW"
      },
      "source": [
        "---\n",
        "### **5.2 Check weather a number is odd or even**\n",
        "---"
      ]
    },
    {
      "cell_type": "code",
      "execution_count": null,
      "metadata": {
        "id": "I2ohfxlRCJRW"
      },
      "outputs": [],
      "source": [
        "n = int(input(\"Enter a No.\\n\"))\n",
        "if  (n % 2 == 0):\n",
        "\tprint (n,\" is even\")\n",
        "else:\n",
        "\tprint (n,\" is odd\")"
      ]
    },
    {
      "cell_type": "markdown",
      "metadata": {
        "id": "861tynfFCJRX"
      },
      "source": [
        "---\n",
        "### **5.3 Check weather a number is prime of not**\n",
        "---"
      ]
    },
    {
      "cell_type": "code",
      "execution_count": null,
      "metadata": {
        "id": "q37Sy99JCJRZ"
      },
      "outputs": [],
      "source": [
        "n = int(input(\"Enter a No.\\n\"))\n",
        "f = 0\n",
        "for i in range(2, n//2 + 1):\n",
        "\tif  (n % i == 0):\n",
        "\t\tf = 1\n",
        "\t\tbreak\n",
        "\n",
        "if (f == 0):\n",
        "\tprint (\"Prime\")\n",
        "else:\n",
        "\tprint (\"Not Prime\")"
      ]
    },
    {
      "cell_type": "markdown",
      "metadata": {
        "id": "YCf466JQCJRa"
      },
      "source": [
        "---\n",
        "### **5.4 Conditional Checking - Compare strings**\n",
        "---"
      ]
    },
    {
      "cell_type": "code",
      "execution_count": null,
      "metadata": {
        "id": "YSTLUkUVCJRb"
      },
      "outputs": [],
      "source": [
        "a = input(\"Enter First String.\\n\")\n",
        "b = input(\"Enter Second String.\\n\")\n",
        "\n",
        "if a == b:\n",
        "\tprint (\"a == b\")\n",
        "elif a >= b:\n",
        "\tprint (\"a > b\")\n",
        "else:\n",
        "\tprint (\"a < b\")"
      ]
    },
    {
      "cell_type": "markdown",
      "metadata": {
        "id": "bPPQtf1ACJRg"
      },
      "source": [
        "**Assingment 5.1:** WAP to find max amoung three numbers and input from user. [Try max() function]\n",
        "\n",
        "**Assingment 5.2:** WAP to add all numbers divisible by 7 and 9 from 1 to n and n is given by the user.\n",
        "\n",
        "**Assingment 5.3:** WAP to add all prime numbers from 1 to n and n is given by the user.\n"
      ]
    },
    {
      "cell_type": "code",
      "execution_count": null,
      "metadata": {
        "id": "NqOjSb8ZCMLk"
      },
      "outputs": [],
      "source": [
        "num1 = float(input(\"Enter first number: \"))\n",
        "num2 = float(input(\"Enter second number: \"))\n",
        "num3 = float(input(\"Enter third number: \"))\n",
        "maximum = max(num1, num2, num3)\n",
        "print(\"The maximum number is:\", maximum)"
      ]
    },
    {
      "cell_type": "code",
      "execution_count": null,
      "metadata": {
        "id": "H_jV5nwOCOMk"
      },
      "outputs": [],
      "source": [
        "n = int(input(\"Enter the value of n: \"))\n",
        "total = 0\n",
        "for i in range(1, n + 1):\n",
        "    if i % 7 ==0 and i % 9 == 0:\n",
        "        total += i\n",
        "print(\"Sum of numbers divisible by 7 and 9 from 1 to\", n, \"is:\", total)"
      ]
    },
    {
      "cell_type": "code",
      "execution_count": null,
      "metadata": {
        "id": "Y3kux5RoCTTH"
      },
      "outputs": [],
      "source": [
        "def is_prime(num):\n",
        "    if (num < 2):\n",
        "        return False\n",
        "    for i in range(2, int(num ** 0.5) + 1):\n",
        "        if (num % i) == 0:\n",
        "            return False\n",
        "    return True\n",
        "\n",
        "n = int(input(\"Enter a number: \"))\n",
        "total = 0\n",
        "for i in range(1, n + 1):\n",
        "    if is_prime(i):\n",
        "        total += i\n",
        "\n",
        "print(\"Sum of all prime numbers from 1 to \", n, \" is:\\t\", total)"
      ]
    },
    {
      "cell_type": "markdown",
      "metadata": {
        "id": "_dC1CuVnDipZ"
      },
      "source": [
        "---\n",
        "# **6 Functions**\n",
        "**Learning:** How to declare and call function\n",
        "\n",
        "---\n",
        "### **6.1 Add two numbers**"
      ]
    },
    {
      "cell_type": "code",
      "execution_count": null,
      "metadata": {
        "id": "_Vw-ZYlDDipb"
      },
      "outputs": [],
      "source": [
        "def Add(a, b):\n",
        "\tc = a + b\n",
        "\treturn c\n",
        "\n",
        "print (\"Add(10,20) = \", Add(10,20))\n",
        "print (\"Add(20,50) = \", Add(20,50))\n",
        "print (\"Add(80,200) = \", Add(80,200))"
      ]
    },
    {
      "cell_type": "markdown",
      "metadata": {
        "id": "ygKAg2QjDipc"
      },
      "source": [
        "---\n",
        "### **6.2 Prime number**\n",
        "---"
      ]
    },
    {
      "cell_type": "code",
      "execution_count": null,
      "metadata": {
        "id": "sg8feM_YDipc"
      },
      "outputs": [],
      "source": [
        "def IsPrime(n):\n",
        "\tfor i in range(2, n//2 + 1):\n",
        "\t\tif n%i==0:\n",
        "\t\t\treturn 0\n",
        "\treturn 1\n",
        "\n",
        "print (\"IsPrime(20)  = \", IsPrime(20))\n",
        "print (\"IsPrime(23)  = \", IsPrime(23))\n",
        "print (\"IsPrime(200) = \", IsPrime(200))\n",
        "print (\"IsPrime(37)  = \", IsPrime(37))"
      ]
    },
    {
      "cell_type": "markdown",
      "metadata": {
        "id": "cMBI2zEJDipd"
      },
      "source": [
        "---\n",
        "### **6.3 Add 1 to n**\n",
        "---"
      ]
    },
    {
      "cell_type": "code",
      "execution_count": null,
      "metadata": {
        "id": "OdcwPL2BDipe"
      },
      "outputs": [],
      "source": [
        "def AddN(n):\n",
        "\tsum = 0\n",
        "\tfor i in range(n+1):\n",
        "\t\tsum += i\n",
        "\treturn sum\n",
        "\n",
        "print(\"AddN(10) = \", AddN(10))\n",
        "print(\"AddN(20) = \", AddN(20))\n",
        "print(\"AddN(50) = \", AddN(50))\n",
        "print(\"AddN(200) = \", AddN(200))"
      ]
    },
    {
      "cell_type": "markdown",
      "metadata": {
        "id": "bWcn3nSlDipg"
      },
      "source": [
        "\n",
        "**Assingment 6.1:** WAP using function that add all odd numbers from 1 to n, n is given by the user.\n",
        "\n",
        "**Assingment 6.2:** WAP using function that add all prime numbers from 1 to n, n given by the user."
      ]
    },
    {
      "cell_type": "code",
      "execution_count": null,
      "metadata": {
        "id": "4yyP1ucqCbUV"
      },
      "outputs": [],
      "source": [
        "def sum_odd_numbers(n):\n",
        "    total = 0\n",
        "    for i in range (1, n + 1, 2):\n",
        "       total += i\n",
        "    return total # Corrected indentation\n",
        "\n",
        "n = int(input(\"Enter a number.\\n\"))\n",
        "result = sum_odd_numbers(n)\n",
        "print(\"Sum of all odd numbers from 1 to \", n, \" is \", result)"
      ]
    },
    {
      "cell_type": "code",
      "execution_count": null,
      "metadata": {
        "id": "5IzKkzUaCh-I"
      },
      "outputs": [],
      "source": [
        "def is_prime(num):\n",
        "    if num < 2:\n",
        "        return False\n",
        "    for i in range(2, int(num ** 0.5) + 1):\n",
        "            if num % i == 0:\n",
        "                return False\n",
        "    return True\n",
        "def sum_of_primes(n):\n",
        "    total = 0\n",
        "    for i in range(2, n+1):\n",
        "        if (is_prime(i)):\n",
        "            total += i\n",
        "    return total\n",
        "n = int(input(\"Enter a number.\\n\"))\n",
        "result = sum_of_primes(n)\n",
        "print(\"Sum of all prime numbers from 1 to \", n, \" is:\\t\", result)"
      ]
    },
    {
      "cell_type": "markdown",
      "metadata": {
        "id": "n6nFmz3zEfuq"
      },
      "source": [
        "---\n",
        "# **7 Math library**\n",
        "**Learning:** Use math library\n",
        "\n",
        "---"
      ]
    },
    {
      "cell_type": "code",
      "execution_count": null,
      "metadata": {
        "id": "qLiy6UxaEfus"
      },
      "outputs": [],
      "source": [
        "import math as m\n",
        "print (\"exp(-200)     = \", m.exp(-200))  # Exponential function\n",
        "print (\"log(100,2)    = \", m.log(100,2)) # Log\n",
        "print (\"log(100,10)   = \", m.log(100,10))# Log\n",
        "print (\"log10(100)    = \", m.log10(100)) # Log 10\n",
        "print (\"m.cos(30)     = \", m.cos(30))    # cos\n",
        "print (\"m.sin(30)     = \", m.sin(30))    # sin\n",
        "print (\"m.tan(30)     = \", m.tan(30))    # tan\n",
        "print (\"m.sqrt(324)   = \", m.sqrt(324))\n",
        "print (\"m.ceil(89.9)  = \", m.ceil(89.9))\n",
        "print (\"m.floor(89.9) = \", m.floor(89.9))"
      ]
    },
    {
      "cell_type": "markdown",
      "metadata": {
        "id": "uuGWj5Q9E7na"
      },
      "source": [
        "---\n",
        "# **8 Strings**\n",
        "**Learning:** How to handle string\n",
        "\n",
        "---\n",
        "### **8.1 Indexing in string**"
      ]
    },
    {
      "cell_type": "code",
      "execution_count": null,
      "metadata": {
        "id": "1OvIOp21E7nc"
      },
      "outputs": [],
      "source": [
        "var = 'Hello World!'\n",
        "print (\"var      = \", var)\n",
        "print (\"var[0]   = \", var[0])\n",
        "print (\"var[1:5] = \", var[1:5])\n",
        "print (\"var[:-5] = \", var[:-5])"
      ]
    },
    {
      "cell_type": "markdown",
      "metadata": {
        "id": "X9V-dQU-E7nd"
      },
      "source": [
        "---\n",
        "### **8.2 String length, upper, lower**\n",
        "---"
      ]
    },
    {
      "cell_type": "code",
      "execution_count": null,
      "metadata": {
        "id": "y8HSuWkEE7ne"
      },
      "outputs": [],
      "source": [
        "var = 'Hello World!'\n",
        "print (\"String = \", var)\n",
        "print (\"Length = \", len(var))\n",
        "print (\"Upper  = \", var.upper())\n",
        "print (\"Lower  = \", var.lower())"
      ]
    },
    {
      "cell_type": "markdown",
      "metadata": {
        "id": "4ySbLzf1Fpi5"
      },
      "source": [
        "---\n",
        "### **8.3 String formatting**\n",
        "---"
      ]
    },
    {
      "cell_type": "code",
      "execution_count": null,
      "metadata": {
        "id": "RDB15138Fpi6"
      },
      "outputs": [],
      "source": [
        "name = input(\"Enter your name.\\n\")\n",
        "age = int(input(\"Enter your age .\\n\"))\n",
        "price = float(input(\"Enter the book price.\\n\"))\n",
        "s = f\"\\nYour name is {name.upper()}, age is {age} and book price is {price}\"\n",
        "print (s)"
      ]
    },
    {
      "cell_type": "markdown",
      "metadata": {
        "id": "27Y8Dk7XFp1F"
      },
      "source": [
        "---\n",
        "### **8.4 String in Triple Quotes**\n",
        "---"
      ]
    },
    {
      "cell_type": "code",
      "execution_count": null,
      "metadata": {
        "id": "jiOlVj37Fp1H"
      },
      "outputs": [],
      "source": [
        "para_str = \"\"\"This is a long string that is made up of\n",
        "several lines and non-printable characters such as\n",
        "TAB ( \\t ) and they will show up that way when displayed.\n",
        "NEWLINEs within the string, whether explicitly given like\n",
        "this within the brackets [ \\n ], or just a NEWLINE within\n",
        "the variable assignment will also show up.\n",
        "\"\"\"\n",
        "print (para_str)"
      ]
    },
    {
      "cell_type": "markdown",
      "metadata": {
        "id": "WK4GTOeIFp-I"
      },
      "source": [
        "---\n",
        "### **8.5 String strip**\n",
        "---"
      ]
    },
    {
      "cell_type": "code",
      "execution_count": null,
      "metadata": {
        "id": "tXJQREI3Fp-J"
      },
      "outputs": [],
      "source": [
        "var =\" Indian   Army    \"\n",
        "\n",
        "print(\"String    = \", var)\n",
        "print(\"Length    = \", len(var))\n",
        "print(\"var strip = \", var.strip())\n",
        "print(\"Length of var after strip = \", len(var.strip()))"
      ]
    },
    {
      "cell_type": "markdown",
      "metadata": {
        "id": "_aSibOwQFqFC"
      },
      "source": [
        "---\n",
        "### **8.6 String split**\n",
        "---"
      ]
    },
    {
      "cell_type": "code",
      "execution_count": null,
      "metadata": {
        "id": "02uwsbaQFqFD"
      },
      "outputs": [],
      "source": [
        "var = \" Indian,   Army    \"\n",
        "\n",
        "print(\"String    = \", var)\n",
        "print(\"Length    = \", len(var))\n",
        "print(\"var split = \", var.split())\n",
        "print(\"var split = \", var.split(' '))\n",
        "print(\"var split = \", var.split(','))\n",
        "\n",
        "# Strip + Split\n",
        "print(\"var split = \", var.strip().split(','))\n"
      ]
    },
    {
      "cell_type": "markdown",
      "metadata": {
        "id": "TgsO9gfoFqMV"
      },
      "source": [
        "---\n",
        "### **8.7 Count in string**\n",
        "---"
      ]
    },
    {
      "cell_type": "code",
      "execution_count": null,
      "metadata": {
        "id": "lwrJzwy6FqMV"
      },
      "outputs": [],
      "source": [
        "var = \" Indian Army    \"\n",
        "print (\"String       = \", var)\n",
        "print (\"Count of ' ' = \", var.count(' '))\n",
        "print (\"Count of 'a' = \", var.count('a'))\n",
        "print (\"Count of 'n' = \", var.count('an'))"
      ]
    },
    {
      "cell_type": "markdown",
      "metadata": {
        "id": "RYP11CU5FqUJ"
      },
      "source": [
        "---\n",
        "### **8.8 Reverse a String**\n",
        "---"
      ]
    },
    {
      "cell_type": "code",
      "execution_count": null,
      "metadata": {
        "id": "QSXd_wfOFqUK"
      },
      "outputs": [],
      "source": [
        "var = \"Indian Army\"\n",
        "print (\"String    = \", var)\n",
        "print (\"var[::1]  = \", var[::1])\n",
        "print (\"var[::2]  = \", var[::2])\n",
        "print (\"var[::-1] = \", var[::-1])\n",
        "print (\"var[::-2] = \", var[::-2])\n",
        "\n",
        "var=var[::-1]\n",
        "print (\"var after reverse = \", var)"
      ]
    },
    {
      "cell_type": "markdown",
      "metadata": {
        "id": "E1Ie2pJRGiNz"
      },
      "source": [
        "---\n",
        "### **8.9 Palindrome**\n",
        "---"
      ]
    },
    {
      "cell_type": "code",
      "execution_count": null,
      "metadata": {
        "id": "-t2FMiSTGiN0"
      },
      "outputs": [],
      "source": [
        "s1 = \"Indian Army\"\n",
        "s2 = \"malayalam\"\n",
        "s3 = \"madam\"\n",
        "s4 = \"teacher\"\n",
        "print (\"s1 = \", s1==s1[::-1])\n",
        "print (\"s2 = \", s2==s2[::-1])\n",
        "print (\"s3 = \", s3==s3[::-1])\n",
        "print (\"s4 = \", s4==s4[::-1])"
      ]
    },
    {
      "cell_type": "markdown",
      "metadata": {
        "id": "MpgFLAABG0Nn"
      },
      "source": [
        "---\n",
        "# **9 Random Numbers/String**\n",
        "**Learning:** Generate Random Numbers/String\n",
        "\n",
        "---\n",
        "### **9.1 Generate random number between 0 and 1**"
      ]
    },
    {
      "cell_type": "code",
      "execution_count": null,
      "metadata": {
        "id": "B2jZpOnRG0Nn"
      },
      "outputs": [],
      "source": [
        "import random as r\n",
        "print (r.random())\n",
        "print (r.random())\n",
        "print (round(r.random(),4))"
      ]
    },
    {
      "cell_type": "markdown",
      "metadata": {
        "id": "wBI9otLPG0Nn"
      },
      "source": [
        "---\n",
        "### **9.2 Generate random integer number**\n",
        "---"
      ]
    },
    {
      "cell_type": "code",
      "execution_count": null,
      "metadata": {
        "id": "72NOmyH-G0No"
      },
      "outputs": [],
      "source": [
        "import random as r\n",
        "print (r.randint(1, 100))\n",
        "print (r.randint(1, 100))\n",
        "print (r.randint(-10, 10))\n",
        "print (r.randint(-10, 10))"
      ]
    },
    {
      "cell_type": "markdown",
      "metadata": {
        "id": "gFTecYJvG0No"
      },
      "source": [
        "---\n",
        "### **9.3 Generate random real number**\n",
        "---"
      ]
    },
    {
      "cell_type": "code",
      "execution_count": null,
      "metadata": {
        "id": "vs3jmtqtG0No"
      },
      "outputs": [],
      "source": [
        "import random as r\n",
        "print (r.uniform(1, 100))\n",
        "print (r.uniform(1, 100))\n",
        "print (r.uniform (-10, 10))\n",
        "print (r.uniform (-10, 10))\n",
        "print (round(r.uniform (-10, 10),2))"
      ]
    },
    {
      "cell_type": "markdown",
      "metadata": {
        "id": "DJ_9Kt4XG0Np"
      },
      "source": [
        "---\n",
        "### **9.4 Select sample from a list of elements**\n",
        "---"
      ]
    },
    {
      "cell_type": "code",
      "execution_count": null,
      "metadata": {
        "id": "ZVDp33YQG0Np"
      },
      "outputs": [],
      "source": [
        "import random as r\n",
        "\n",
        "A=[1, 2, 3, 4, 5, 6, 7, 8, 9, 10]\n",
        "\n",
        "print (r.sample(A, 4))\n",
        "print (r.sample(A, 2))\n",
        "print (r.sample(range(0,100), 2))\n",
        "print (r.sample(range(-100,100), 5))"
      ]
    },
    {
      "cell_type": "markdown",
      "metadata": {
        "id": "cgEXGBtsG0Np"
      },
      "source": [
        "---\n",
        "### **9.5 Generate random string**\n",
        "---"
      ]
    },
    {
      "cell_type": "code",
      "execution_count": null,
      "metadata": {
        "id": "T-FHSfgfG0Nq"
      },
      "outputs": [],
      "source": [
        "import string as s\n",
        "import random as r\n",
        "print (\"String        = \",s.ascii_letters)\n",
        "\n",
        "passwd = r.sample(s.ascii_letters, 6)\n",
        "print (\"Selected Char = \",passwd)\n",
        "\n",
        "passwd1 = \"\".join(passwd)\n",
        "print (\"passwd1       = \",passwd1)\n",
        "\n",
        "passwd2 = \"+\".join(passwd)\n",
        "print (\"passwd2       = \",passwd2)\n",
        "\n",
        "passwd3 = \"*\".join(passwd)\n",
        "print (\"passwd3       = \",passwd3)\n"
      ]
    },
    {
      "cell_type": "markdown",
      "metadata": {
        "id": "9NFexXG1G0Nq"
      },
      "source": [
        "---\n",
        "### **9.6 Generate random digits**\n",
        "---"
      ]
    },
    {
      "cell_type": "code",
      "execution_count": null,
      "metadata": {
        "id": "mH0sHuuHG0Nq"
      },
      "outputs": [],
      "source": [
        "import string as s\n",
        "import random as r\n",
        "print (\"Digits = \",s.digits)\n",
        "\n",
        "otp = r.sample(s.digits, 5)\n",
        "print (\"Selected num1 = \",otp)\n",
        "otp = \"\".join(otp)\n",
        "print (\"otp1          = \",otp)\n",
        "\n",
        "otp = r.sample(s.digits, 5)\n",
        "print (\"Selected num2 = \",otp)\n",
        "otp = \"\".join(otp)\n",
        "print (\"otp2          = \",otp)\n",
        "\n",
        "otp = r.sample(s.digits, 5)\n",
        "print (\"Selected num2 = \",otp)\n",
        "otp = \"\".join(otp)\n",
        "print (\"otp3          = \",otp)"
      ]
    },
    {
      "cell_type": "markdown",
      "metadata": {
        "id": "1bcIKPDpG0Nr"
      },
      "source": [
        "---\n",
        "### **9.7 Generate random string + digits**\n",
        "---"
      ]
    },
    {
      "cell_type": "code",
      "execution_count": null,
      "metadata": {
        "id": "BG-ACfp0G0Nr"
      },
      "outputs": [],
      "source": [
        "import string as s\n",
        "import random as r\n",
        "print (\"String + Digits = \",s.ascii_letters + s.digits)\n",
        "\n",
        "mixPasswd=r.sample(s.ascii_letters + s.digits, 5)\n",
        "print (\"\\nSelected Str1 = \",mixPasswd)\n",
        "mixPasswd=\"\".join(mixPasswd)\n",
        "print (\"mixPasswd1    = \",mixPasswd)\n",
        "\n",
        "mixPasswd=r.sample(s.ascii_letters + s.digits, 6)\n",
        "print (\"\\nSelected Str2 = \",mixPasswd)\n",
        "mixPasswd=\"\".join(mixPasswd)\n",
        "print (\"mixPasswd2    = \",mixPasswd)\n",
        "\n",
        "splChar=\"#@!~%^&*()_+=-[]{}|\"\n",
        "mixPasswd=r.sample(splChar + s.ascii_letters + s.digits, 8)\n",
        "print (\"\\nSelected Str3 = \",mixPasswd)\n",
        "mixPasswd=\"\".join(mixPasswd)\n",
        "print (\"mixPasswd3    = \",mixPasswd)"
      ]
    },
    {
      "cell_type": "markdown",
      "metadata": {
        "id": "WcdyFjhzJo9j"
      },
      "source": [
        "---\n",
        "# **10 Exception Handaling**\n",
        "**Learning:** How to handle exceptions\n",
        "\n",
        "---\n",
        "### **10.1 Error Generation**"
      ]
    },
    {
      "cell_type": "code",
      "execution_count": null,
      "metadata": {
        "id": "vKJEy_SYJo9k"
      },
      "outputs": [],
      "source": [
        "for i in range(-5,6):\n",
        "\tprint (\"100/\",i,\" = \", 100/i)"
      ]
    },
    {
      "cell_type": "markdown",
      "metadata": {
        "id": "ulPZfl8rJo9l"
      },
      "source": [
        "---\n",
        "### **10.2 Exception handaling for division by zero**\n",
        "---"
      ]
    },
    {
      "cell_type": "code",
      "execution_count": null,
      "metadata": {
        "id": "GY4t0EqjJo9m"
      },
      "outputs": [],
      "source": [
        "for i in range(-5,6):\n",
        "\ttry:\n",
        "\t\tprint (\"100/\",i,\" --> \", 100/i)\n",
        "\texcept:\n",
        "\t\tprint (\"error\")"
      ]
    },
    {
      "cell_type": "markdown",
      "metadata": {
        "id": "g1cY_zT3Jo9m"
      },
      "source": [
        "---\n",
        "### **10.3 Exception handaling for array out of index**\n",
        "---"
      ]
    },
    {
      "cell_type": "code",
      "execution_count": null,
      "metadata": {
        "id": "m1rBOUB3Jo9n"
      },
      "outputs": [],
      "source": [
        "L=[1,2,3,4,5]\n",
        "\n",
        "for i in range(8):\n",
        "\ttry:\n",
        "\t\tprint (i,\" --> \",L[i])\n",
        "\texcept:\n",
        "\t\tprint (\"error\")"
      ]
    },
    {
      "cell_type": "markdown",
      "metadata": {
        "id": "kH8CATzbJo9o"
      },
      "source": [
        "---\n",
        "### **10.4 Exception handaling for file not found**\n",
        "---"
      ]
    },
    {
      "cell_type": "code",
      "execution_count": null,
      "metadata": {
        "id": "zZ7ns4K3Jo9o"
      },
      "outputs": [],
      "source": [
        "fileName=input(\"Enter File Name: \")\n",
        "fp=open(fileName)\t# Open the file in reading mode\n",
        "fp.close()\n",
        "print (\"Done\")"
      ]
    },
    {
      "cell_type": "markdown",
      "metadata": {
        "id": "D4bffbZQJo9p"
      },
      "source": [
        "---\n",
        "### **10.5 Exception handaling for file not found**\n",
        "---"
      ]
    },
    {
      "cell_type": "code",
      "execution_count": null,
      "metadata": {
        "id": "dt3X92CyJo9q"
      },
      "outputs": [],
      "source": [
        "fileName=input(\"Enter File Name: \")\n",
        "try:\n",
        "\tfp=open(fileName)\t# Open the file in reading mode\n",
        "\tfp.close()\n",
        "except:\n",
        "\tprint (\"Error !! \\\"%s\\\" File Not Found\"%(fileName))\n",
        "\n",
        "print (\"Done\")"
      ]
    },
    {
      "cell_type": "markdown",
      "metadata": {
        "id": "F5w6mKSaPcaj"
      },
      "source": [
        "---\n",
        "# **11 Data Structure 1 - List**\n",
        "**Learning:** How to use list, add, delete and search in the list.\n",
        "\n",
        "**Note:** Read more about list and try yourself\n",
        "\n",
        "---\n",
        "### **11.1 List Declaration**\n"
      ]
    },
    {
      "cell_type": "code",
      "execution_count": null,
      "metadata": {
        "id": "nYnqBFRzPcas"
      },
      "outputs": [],
      "source": [
        "L = [\"Paramveer\",  'Singh', 3.14,  3 ]\n",
        "print (\"Original List: \", L)\n",
        "print (\"Number of elements in list: \", len(L))"
      ]
    },
    {
      "cell_type": "markdown",
      "metadata": {
        "id": "xyP5tZ7IPcat"
      },
      "source": [
        "---\n",
        "### **11.2 List Iteration**\n",
        "---"
      ]
    },
    {
      "cell_type": "code",
      "execution_count": null,
      "metadata": {
        "id": "TIalxne5Pcat"
      },
      "outputs": [],
      "source": [
        "L = [\"Paramveer\",  'Singh', 3.14,  3 ]\n",
        "print (\"Original List: \", L)\n",
        "i=0\n",
        "while i < len(L):\n",
        "\tprint (L[i])\n",
        "\ti+=1"
      ]
    },
    {
      "cell_type": "markdown",
      "metadata": {
        "id": "fpkfQhktPcau"
      },
      "source": [
        "---\n",
        "### **11.3 List Iteration using for loop**\n",
        "---"
      ]
    },
    {
      "cell_type": "code",
      "execution_count": null,
      "metadata": {
        "id": "p6mVPS1pPcau"
      },
      "outputs": [],
      "source": [
        "L = [\"Paramveer\",  'Singh', 3.14,  3 ]\n",
        "print (\"Original List: \", L)\n",
        "for i in range(0, len(L)):\n",
        "\tprint (L[i])"
      ]
    },
    {
      "cell_type": "markdown",
      "metadata": {
        "id": "CouKDMO1Pcav"
      },
      "source": [
        "---\n",
        "### **11.4 List Iteration using for loop**\n",
        "---"
      ]
    },
    {
      "cell_type": "code",
      "execution_count": null,
      "metadata": {
        "id": "yT0MDFBJPcaw"
      },
      "outputs": [],
      "source": [
        "L = [\"Paramveer\",  'Singh', 3.14,  3 ]\n",
        "print (\"Original List = \", L)\n",
        "for s in L:\n",
        "\tprint (s)"
      ]
    },
    {
      "cell_type": "markdown",
      "metadata": {
        "id": "XeroS2dsPcay"
      },
      "source": [
        "---\n",
        "### **11.5 Adding and deleting from list**\n",
        "---"
      ]
    },
    {
      "cell_type": "code",
      "execution_count": null,
      "metadata": {
        "id": "rWUOXQitPcay"
      },
      "outputs": [],
      "source": [
        "L = [\"Paramveer\",  'Singh', 3.14,  3 ]\n",
        "print (\"Original List       = \", L)\n",
        "\n",
        "L.append(\"Tiya\")\n",
        "print (\"List After Adding   = \", L)\n",
        "\n",
        "del L[1]\n",
        "print (\"List After Deleting = \", L)"
      ]
    },
    {
      "cell_type": "markdown",
      "metadata": {
        "id": "_DxAr9ZfPcaz"
      },
      "source": [
        "---\n",
        "### **11.6 Sum/Average of List**\n",
        "---"
      ]
    },
    {
      "cell_type": "code",
      "execution_count": null,
      "metadata": {
        "id": "taKMcEajPca1"
      },
      "outputs": [],
      "source": [
        "L=[3, 6, 9, 12, 5, 3, 2]\n",
        "print (\"Original List = \", L)\n",
        "\n",
        "sum = 0\n",
        "for elements in L:\n",
        "    sum += elements\n",
        "list_sum = sum\n",
        "list_len = len(L)\n",
        "\n",
        "print (\"Sum     = \", list_sum)\n",
        "print (\"Average = \", list_sum / list_len)\n",
        "print (\"Average (floor) = \", list_sum // list_len)\n",
        "\n",
        "print (\"L * 3   = \", L * 3)\n",
        "print (\"L + L   = \", L + L)\n"
      ]
    },
    {
      "cell_type": "markdown",
      "metadata": {
        "id": "2SIEcqKePca1"
      },
      "source": [
        "---\n",
        "### **11.7 Min/Max/Sort the list**\n",
        "---"
      ]
    },
    {
      "cell_type": "code",
      "execution_count": null,
      "metadata": {
        "id": "NUsOwblSPca1"
      },
      "outputs": [],
      "source": [
        "L=[3, 6, 9, 12, 5, 3, 2]\n",
        "print (\"Original List = \", L)\n",
        "\n",
        "print (\"max = \", max(L))\n",
        "print (\"min = \", min(L))\n",
        "\n",
        "print (\"\\nBefore Sort            = \", L)\n",
        "L.sort()\n",
        "\n",
        "print (\"After Sort (Asending)  = \", L)\n",
        "\n",
        "L.sort(reverse=True)\n",
        "print (\"After Sort (Desending) = \", L)"
      ]
    },
    {
      "cell_type": "markdown",
      "metadata": {
        "id": "pX_P07ODQoQM"
      },
      "source": [
        "---\n",
        "### **11.8 Merge lists and select elements**\n",
        "---"
      ]
    },
    {
      "cell_type": "code",
      "execution_count": null,
      "metadata": {
        "id": "pf8csu4yQoQO"
      },
      "outputs": [],
      "source": [
        "L1 = [3, 6, 9]\n",
        "L2 = [12, 5, 3, 2]\n",
        "L3 = L1 + L2\n",
        "print (\"L1 = \",L1)\n",
        "print (\"L2 = \",L2)\n",
        "print (\"L3 = \",L3)\n",
        "\n",
        "print (\"\\nL3[2:]  = \",L3[2:])\n",
        "print (\"L3[2:5] = \",L3[2:5])\n",
        "print (\"L3[:-1] = \",L3[:-1])\n",
        "print (\"L3[::2] = \",L3[::2])"
      ]
    },
    {
      "cell_type": "markdown",
      "metadata": {
        "id": "2fxU9VLhQpGB"
      },
      "source": [
        "---\n",
        "### **11.9 Multiply all elements of the list by a constant**\n",
        "---"
      ]
    },
    {
      "cell_type": "code",
      "execution_count": null,
      "metadata": {
        "id": "Karxlcp6QpGC"
      },
      "outputs": [],
      "source": [
        "L = [12, 5, 3, 2, 7]\n",
        "print (\"Original List = \", L)\n",
        "\n",
        "newL = [ i * 5 for i in L ]\n",
        "print (\"After Multiply with constant = \", newL)"
      ]
    },
    {
      "cell_type": "markdown",
      "metadata": {
        "id": "S9_QezrcQpQ9"
      },
      "source": [
        "---\n",
        "### **11.10 Searching in the list**\n",
        "---"
      ]
    },
    {
      "cell_type": "code",
      "execution_count": null,
      "metadata": {
        "id": "ZptMehxhQpQ9"
      },
      "outputs": [],
      "source": [
        "L=[3, 6, 9, 12, 5, 3, 2]\n",
        "print (\"Original List = \", 6 in L)\n",
        "print (\"Original List = \", 10 in L)\n",
        "print (\"Original List = \", 12 in L)\n",
        "\n",
        "if (6 in L) == True:\n",
        "\tprint (\"Present\")\n",
        "else:\n",
        "\tprint (\"Not Present\")\n",
        "\n",
        "if 10 in L == False:\n",
        "\tprint (\"Not Present\")\n",
        "else:\n",
        "\tprint (\"Present\")"
      ]
    },
    {
      "cell_type": "markdown",
      "metadata": {
        "id": "zHAa4y1BScFQ"
      },
      "source": [
        "---\n",
        "# **12 Data Structure 2 - Dictionary**\n",
        "**Learning:** How to use Dictionary, add, delete, search in Dictionary\n",
        "\n",
        "**Note:** Read more about Dictionary and try yourself\n",
        "\n",
        "---\n",
        "### **12.1 Declare Dictionary**"
      ]
    },
    {
      "cell_type": "code",
      "execution_count": null,
      "metadata": {
        "id": "T7Q4GKPaScFS"
      },
      "outputs": [],
      "source": [
        "CGPA={1:8.9, 2:5.6, 4:6.7, 7:9.1, 8:5.3}\n",
        "print (\"Dictionary      = \", CGPA)\n",
        "print (\"Num of elements = \", len(CGPA))\n",
        "\n",
        "print (\"CGPA of 1       = \", CGPA[1])\n",
        "print (\"CGPA of 4       = \", CGPA[4])\n",
        "print (\"CGPA of 7       = \", CGPA[7])\n",
        "print (\"CGPA of 3       = \", CGPA[3])"
      ]
    },
    {
      "cell_type": "markdown",
      "metadata": {
        "id": "BxbeipLlScFS"
      },
      "source": [
        "---\n",
        "### **12.2 Triverse dictionary**\n",
        "---"
      ]
    },
    {
      "cell_type": "code",
      "execution_count": null,
      "metadata": {
        "id": "iWXBcVNTScFT"
      },
      "outputs": [],
      "source": [
        "CGPA={1:8.9, 2:5.6, 4:6.7, 7:9.1, 8:5.3}\n",
        "for k in CGPA:\n",
        "\tprint (\"CGPA of \", k, \" --=> \", CGPA[k])"
      ]
    },
    {
      "cell_type": "markdown",
      "metadata": {
        "id": "O721iFiOScFT"
      },
      "source": [
        "---\n",
        "### **12.3 Getting Keys and Values**\n",
        "---"
      ]
    },
    {
      "cell_type": "code",
      "execution_count": null,
      "metadata": {
        "id": "dnPH-GCyScFU"
      },
      "outputs": [],
      "source": [
        "CGPA={1:8.9, 2:5.6, 4:6.7, 7:9.1, 8:5.3}\n",
        "print (\"Dictionary = \", CGPA)\n",
        "print (\"Keys       = \", list(CGPA.keys()))\n",
        "print (\"Values     = \", list(CGPA.values()))"
      ]
    },
    {
      "cell_type": "markdown",
      "metadata": {
        "id": "v2ooUfguScFV"
      },
      "source": [
        "---\n",
        "### **12.4 Updating, Adding and Deleting from Dictionary**\n",
        "---"
      ]
    },
    {
      "cell_type": "code",
      "execution_count": null,
      "metadata": {
        "id": "zO_QA0GNScFV"
      },
      "outputs": [],
      "source": [
        "CGPA={1:8.9,2:5.6,4:6.7,7:9.1,8:5.3}\n",
        "print (\"Original Dictionary = \", CGPA)\n",
        "\n",
        "CGPA[4] = 9.2\n",
        "print (\"After Updating (4)  = \", CGPA)\n",
        "\n",
        "CGPA[3] = 8.6\n",
        "print (\"After Adding (3)    = \", CGPA)\n",
        "\n",
        "del CGPA[1]\n",
        "print (\"After Deleting (1)  = \", CGPA)\n",
        "\n",
        "CGPA.clear()\n",
        "print (\"After Clear         = \", CGPA)\n",
        "\n",
        "del CGPA\n",
        "print (\"After Delete        = \", CGPA)"
      ]
    },
    {
      "cell_type": "markdown",
      "metadata": {
        "id": "8SPV0FVyScFW"
      },
      "source": [
        "---\n",
        "### **12.5 Checking for Key in Dictionary**\n",
        "---"
      ]
    },
    {
      "cell_type": "code",
      "execution_count": null,
      "metadata": {
        "id": "Bwt-yAtpScFW"
      },
      "outputs": [],
      "source": [
        "CGPA={1:8.9, 2:5.6, 4:6.7, 7:9.1, 8:5.3}\n",
        "print (\"Original Dictionary = \", CGPA)\n",
        "print (\"Is Key 2 Present    = \", 2 in CGPA)\n",
        "print (\"Is Key 9 Present    = \", 9 in CGPA)"
      ]
    },
    {
      "cell_type": "markdown",
      "metadata": {
        "id": "_KifQnHnScFX"
      },
      "source": [
        "---\n",
        "### **12.6 More example1**\n",
        "---"
      ]
    },
    {
      "cell_type": "code",
      "execution_count": null,
      "metadata": {
        "id": "tM4fQro9ScFZ"
      },
      "outputs": [],
      "source": [
        "HomeTown={\"Robin\":\"Delhi\", \"Govind\":\"Gwalior\", \"Anil\":\"Morena\", \"Pankaj\":\"Agra\"}\n",
        "print (\"Original Dictionary = \", HomeTown)\n",
        "print (\"Home Town of Robin is = \", HomeTown[\"Robin\"])\n",
        "print (\"Home Town of Govind is   = \", HomeTown[\"Govind\"])\n",
        "print (\"Home Town of Anil is     = \", HomeTown[\"Anil\"])\n",
        "print (\"Home Town of Pankaj is   = \", HomeTown[\"Pankaj\"])\n"
      ]
    },
    {
      "cell_type": "markdown",
      "metadata": {
        "id": "ZQIFxo4GScFa"
      },
      "source": [
        "---\n",
        "### **12.7 More example2**\n",
        "---"
      ]
    },
    {
      "cell_type": "code",
      "execution_count": null,
      "metadata": {
        "id": "hOADMSpvScFa"
      },
      "outputs": [],
      "source": [
        "HomeTown={\"Robin\":\"Delhi\", \"Govind\":\"Gwalior\", \"Anil\":\"Morena\", \"Pankaj\":\"Agra\"}\n",
        "print (\"Original Dictionary = \", HomeTown)\n",
        "\n",
        "for d in HomeTown:\n",
        "\tprint (\"Home Town of \", d, \" is  = \", HomeTown[d])"
      ]
    },
    {
      "cell_type": "markdown",
      "metadata": {
        "id": "Hom72Xe6Z1sJ"
      },
      "source": [
        "---\n",
        "# **13 Data Structure 3 - Tuple**\n",
        "\n",
        "**Learning:** How to use Tuple, add, delete, search in Tuple\n",
        "\n",
        "**Note:** Read more about Tuple and try yourself\n",
        "\n",
        "---\n",
        "### **13.1 Declare Tuple**"
      ]
    },
    {
      "cell_type": "code",
      "execution_count": null,
      "metadata": {
        "id": "au4DzzGyFysT"
      },
      "outputs": [],
      "source": [
        "# Method 1\n",
        "T = (\"Paramveer\", 'Singh', 3.14, 3)\n",
        "\n",
        "print (\"T               = \", T)\n",
        "print (\"Num of elements = \", len(T))\n",
        "print (\"Type of Object  = \", type(T))"
      ]
    },
    {
      "cell_type": "code",
      "execution_count": null,
      "metadata": {
        "id": "6w09RiHeF-Io"
      },
      "outputs": [],
      "source": [
        "# Method 2\n",
        "T = tuple([\"Paramveer\", 'Singh', 3.14, 3])   # Convert list to tuple\n",
        "#T = tuple((\"Pratham\", 'Sharma', 3.14, 3))  # Also Works\n",
        "\n",
        "print (\"T               = \", T)\n",
        "print (\"Num of elements = \", len(T))\n",
        "print (\"Type of Object  = \", type(T))"
      ]
    },
    {
      "cell_type": "markdown",
      "metadata": {
        "id": "sC3XhTJtFysW"
      },
      "source": [
        "---\n",
        "### **13.2 Tuple Iteration**\n",
        "---"
      ]
    },
    {
      "cell_type": "code",
      "execution_count": null,
      "metadata": {
        "id": "pama9SlbFysX"
      },
      "outputs": [],
      "source": [
        "T = (\"Paramveer\", 'Singh', 3.14, 3)\n",
        "print (\"T = T)\n",
        "\n",
        "i = 0\n",
        "while i < len(T):\n",
        "    print (T[i])\n",
        "    i += 1"
      ]
    },
    {
      "cell_type": "markdown",
      "metadata": {
        "id": "Xk0P6u4BFysY"
      },
      "source": [
        "---\n",
        "### **13.3 Tuple iteration using for loop**\n",
        "---"
      ]
    },
    {
      "cell_type": "code",
      "execution_count": null,
      "metadata": {
        "id": "N73bUXRDFysZ"
      },
      "outputs": [],
      "source": [
        "T = (\"Paramveer\", 'Singh', 3.14, 3)\n",
        "print (\"T = T)\n",
        "\n",
        "for i in range(0, len(T)):\n",
        "    print (T[i])"
      ]
    },
    {
      "cell_type": "markdown",
      "metadata": {
        "id": "kGZWqnebFysa"
      },
      "source": [
        "---\n",
        "### **13.4 Tuple iteration using for loop**\n",
        "---"
      ]
    },
    {
      "cell_type": "code",
      "execution_count": null,
      "metadata": {
        "id": "Y6L2BeBcFysb"
      },
      "outputs": [],
      "source": [
        "T = (\"Paramveer\", 'Singh', 3.14, 3)\n",
        "print (\"T = T)\n",
        "\n",
        "for s in T:\n",
        "    print (s)"
      ]
    },
    {
      "cell_type": "markdown",
      "metadata": {
        "id": "TsjuXQqfFysc"
      },
      "source": [
        "---\n",
        "### **13.5 Accessing/Selecting in Tuple**\n",
        "---"
      ]
    },
    {
      "cell_type": "code",
      "execution_count": null,
      "metadata": {
        "id": "FgB4s6OtFysc"
      },
      "outputs": [],
      "source": [
        "# Example 1:\n",
        "T = (3, 6, 9, 12, 5, 3, 2)\n",
        "print (\"T     = \", T)\n",
        "\n",
        "print (\"T[1]  = \", T[1])\n",
        "print (\"T[2]  = \", T[2])\n",
        "print (\"T[-1] = \", T[-1])\n",
        "print (\"T[-2] = \", T[-2])"
      ]
    },
    {
      "cell_type": "code",
      "execution_count": null,
      "metadata": {
        "id": "ex2S0y2tGzSH"
      },
      "outputs": [],
      "source": [
        "# Example 2:\n",
        "T = (3, 6, 9, 12, 5, 3, 2)\n",
        "print (\"T        = \", T)\n",
        "\n",
        "print (\"T[1:3]   = \", T[1:3])\n",
        "print (\"T[2:]    = \", T[2:])\n",
        "print (\"T[2:5]   = \", T[2:5])\n",
        "print (\"T[:2]    = \", T[:2])\n",
        "print (\"T[:-1]   = \", T[:-1])\n",
        "print (\"T[-4:-1] = \", T[-4:-1])"
      ]
    },
    {
      "cell_type": "markdown",
      "metadata": {
        "id": "IYCHgXGZFyse"
      },
      "source": [
        "---\n",
        "### **13.6 Sum/Average of Tuple**\n",
        "---"
      ]
    },
    {
      "cell_type": "code",
      "execution_count": null,
      "metadata": {
        "id": "1sSPfUTGFysf"
      },
      "outputs": [],
      "source": [
        "T = (3, 6, 9, 12, 5, 3, 2)\n",
        "print (\"T       = \",  T)\n",
        "print (\"Sum     = \",  sum(T))\n",
        "print (\"Average = \",  sum(T)/len(T))\n",
        "print (\"Average = \",  sum(T)//len(T))"
      ]
    },
    {
      "cell_type": "markdown",
      "metadata": {
        "id": "E_Je9dVxFysg"
      },
      "source": [
        "---\n",
        "### **13.7 Min/Max in Tuple**\n",
        "---"
      ]
    },
    {
      "cell_type": "code",
      "execution_count": null,
      "metadata": {
        "id": "tNsc-7xEFysi"
      },
      "outputs": [],
      "source": [
        "# Example 1\n",
        "T = (3, 6, 9, 12, 5, 3, 2)                # Integer Tuple\n",
        "print (\"T   = \", T)\n",
        "print (\"Max = \", max(T))\n",
        "print (\"Min = \", min(T))"
      ]
    },
    {
      "cell_type": "code",
      "execution_count": null,
      "metadata": {
        "id": "mwCtFSUDHL50"
      },
      "outputs": [],
      "source": [
        "# Example 2\n",
        "T = (\"Ram\", \"Shyam\", \"Human\", \"Ant\")      # String Tuple\n",
        "print (\"T   = \",  T)\n",
        "print (\"Max = \",  max(T))\n",
        "print (\"Min = \",  min(T))"
      ]
    },
    {
      "cell_type": "markdown",
      "metadata": {
        "id": "WUNgIs62Fysi"
      },
      "source": [
        "---\n",
        "### **13.8 Merging Tuples**\n",
        "---"
      ]
    },
    {
      "cell_type": "code",
      "execution_count": null,
      "metadata": {
        "id": "zqz9Xp0tFysj"
      },
      "outputs": [],
      "source": [
        "T1 = (3, 6, 9)\n",
        "T2 = (12, 5, 3, 2)\n",
        "\n",
        "print (\"T1 = \", T1)\n",
        "print (\"T2 = \", T2)\n",
        "\n",
        "T3 = T1 + T2\n",
        "print (\"T3 = \", T3)\n",
        "\n",
        "T4 = T1 + T2 + T1 + T2\n",
        "print (\"T4 = \", T4)"
      ]
    },
    {
      "cell_type": "markdown",
      "metadata": {
        "id": "K2lF7bjeFysj"
      },
      "source": [
        "---\n",
        "### **13.9 Merging part of Tuples**\n",
        "---"
      ]
    },
    {
      "cell_type": "code",
      "execution_count": null,
      "metadata": {
        "id": "1ChXppaZFysk"
      },
      "outputs": [],
      "source": [
        "T1 = (3, 6, 9)\n",
        "T2 = (12, 5, 3, 2)\n",
        "\n",
        "print (\"T1 = \", T1)\n",
        "print (\"T2 = \", T2)\n",
        "\n",
        "T3 = T1[1:2] + T2[1:3]\n",
        "print (\"T3 = \", T3)\n",
        "\n",
        "T4 = T1[:-2] + T2[:-3]\n",
        "print (\"T4 = \", T4)"
      ]
    },
    {
      "cell_type": "markdown",
      "metadata": {
        "id": "3frpbJ4RFysl"
      },
      "source": [
        "---\n",
        "### **13.10 Searching in the tuple**\n",
        "---"
      ]
    },
    {
      "cell_type": "code",
      "execution_count": null,
      "metadata": {
        "id": "cY6y818WFysl"
      },
      "outputs": [],
      "source": [
        "T = (3, 6, 9, 12, 5, 3, 2)\n",
        "print (\"T       = \", T)\n",
        "\n",
        "print (\"6  in T = \", 6 in T)\n",
        "print (\"10 in T = \", 10 in T)\n",
        "print (\"12 in T = \", 12 in T)"
      ]
    },
    {
      "cell_type": "markdown",
      "metadata": {
        "id": "vJg6l4N_E4IG"
      },
      "source": [
        "---\n",
        "### **13.11 Adding element to Tuple (Error)**\n",
        "---"
      ]
    },
    {
      "cell_type": "code",
      "execution_count": null,
      "metadata": {
        "id": "RM0E_sSoE4IH"
      },
      "outputs": [],
      "source": [
        "T = (\"Pratham\", 'Sharma', 3.14, 3)\n",
        "print (\"T = \", T)\n",
        "\n",
        "T[2] = 900               # Error; 'tuple' object does not support item assignment\n",
        "print (\"T = \", T)\n",
        "\n",
        "#Tuples are unchangeable. We cannot add items to it."
      ]
    },
    {
      "cell_type": "markdown",
      "metadata": {
        "id": "KocwDH8QE4IH"
      },
      "source": [
        "---\n",
        "### **13.12 Adding element to Tuple - (Jugaad)**\n",
        "---"
      ]
    },
    {
      "cell_type": "code",
      "execution_count": null,
      "metadata": {
        "id": "TWSdjWFfE4II"
      },
      "outputs": [],
      "source": [
        "T = (\"Pratham\", 'Sharma', 3.14, 3)\n",
        "print (\"T         = \", T)\n",
        "\n",
        "T1 = list(T)\n",
        "T1.append(9.8)\n",
        "T = tuple(T1)\n",
        "\n",
        "print (\"After Add = \", T)"
      ]
    },
    {
      "cell_type": "markdown",
      "metadata": {
        "id": "D8fE_Al0E4II"
      },
      "source": [
        "---\n",
        "### **13.13 Inserting element in Tuple - (Jugaad)**\n",
        "---"
      ]
    },
    {
      "cell_type": "code",
      "execution_count": null,
      "metadata": {
        "id": "bkvZ4s4yE4IJ"
      },
      "outputs": [],
      "source": [
        "T = (\"Pratham\", 'Sharma', 3.14, 3)\n",
        "print (\"T            = \", T)\n",
        "\n",
        "T1 = list(T)\n",
        "T1.insert(2, \"Rahul\")\n",
        "T = tuple(T1)\n",
        "\n",
        "print (\"After Insert = \", T)"
      ]
    },
    {
      "cell_type": "markdown",
      "metadata": {
        "id": "UvpIX1nsE4IK"
      },
      "source": [
        "---\n",
        "### **13.14 Deleting from Tuple (Error)**\n",
        "---"
      ]
    },
    {
      "cell_type": "code",
      "execution_count": null,
      "metadata": {
        "id": "mex45HHQE4IL"
      },
      "outputs": [],
      "source": [
        "T = (\"Pratham\", 'Sharma', 3.14, 3)\n",
        "print (\"T            = \", T)\n",
        "\n",
        "del T[1]\n",
        "\n",
        "print (\"After Delete = \", T)"
      ]
    },
    {
      "cell_type": "markdown",
      "metadata": {
        "id": "mUlLkF7xK4ta"
      },
      "source": [
        "---\n",
        "### **13.15 Deleting from Tuple - (Jugaad)**\n",
        "---"
      ]
    },
    {
      "cell_type": "code",
      "execution_count": null,
      "metadata": {
        "id": "Ey7gyq_JK4tc"
      },
      "outputs": [],
      "source": [
        "T = (\"Pratham\", 'Sharma', 3.14, 3)\n",
        "print (\"T            = \", T)\n",
        "\n",
        "T1 = list(T)\n",
        "del T1[1]\n",
        "T = tuple(T1)\n",
        "\n",
        "print (\"After Delete = \", T)"
      ]
    },
    {
      "cell_type": "markdown",
      "metadata": {
        "id": "nP1BXJvpaSMR"
      },
      "source": [
        "---\n",
        "# **14 Data Structure 4 - Set**\n",
        "\n",
        "**Learning:** How to use Set, add, delete, search in Set\n",
        "\n",
        "**Note:** Read more about Set and try yourself\n",
        "\n",
        "---\n",
        "### **14.1 Declare Set**"
      ]
    },
    {
      "cell_type": "code",
      "execution_count": null,
      "metadata": {
        "id": "q7k_3HyiaWwa"
      },
      "outputs": [],
      "source": [
        "s = set(['A', 'B', 'E', 'F','E', 'F' ])\n",
        "print (\"Original set           = \", s)\n",
        "print (\"Num of elements in set = \", len(s))"
      ]
    },
    {
      "cell_type": "markdown",
      "metadata": {
        "id": "ltLfKXfKardd"
      },
      "source": [
        "---\n",
        "### **14.2 Opertions on Sets**\n",
        "---"
      ]
    },
    {
      "cell_type": "code",
      "execution_count": null,
      "metadata": {
        "id": "s8KiiSKSardf"
      },
      "outputs": [],
      "source": [
        "a = set(['A', 'B', 'E', 'F' ])\n",
        "b = set([\"A\", \"C\", \"D\", \"E\"])\n",
        "print (\"Original set a      = \", a)\n",
        "print (\"Original set b      = \", b)\n",
        "print (\"Union of a and b    = \", a.union(b))\n",
        "print (\"Intersection of a,b = \", a.intersection(b))\n",
        "print (\"Difference a - b    = \", a - b)\n",
        "print (\"Difference a - b    = \", a.difference(b))\n",
        "print (\"Difference b - a    = \", b - a)\n",
        "print (\"Difference b - a    = \", b.difference(a))\n",
        "print (\"Symetric Diff a - b = \", a.symmetric_difference(b))\n",
        "print (\"Symetric Diff b - a = \", b.symmetric_difference(a))"
      ]
    },
    {
      "cell_type": "markdown",
      "metadata": {
        "id": "oGG-LZJhars5"
      },
      "source": [
        "---\n",
        "### **14.3 Add, delete, pop element from set**\n",
        "---"
      ]
    },
    {
      "cell_type": "code",
      "execution_count": null,
      "metadata": {
        "id": "6MfSdtaUars6"
      },
      "outputs": [],
      "source": [
        "a = set(['A', 'B', 'E', 'F' ])\n",
        "print (\"Original set a       = \", a)\n",
        "a.add(\"D\")\n",
        "print (\"Set After Adding (D) = \", a)\n",
        "a.add(\"D\")\n",
        "print (\"Set After Adding (D) = \", a)\n",
        "a.remove(\"D\")\n",
        "print (\"Set After Deleting(D)= \", a)\n",
        "a.pop()\n",
        "print (\"Set After pop        = \", a)\n",
        "a.pop()\n",
        "print (\"Set After pop        = \", a)"
      ]
    },
    {
      "cell_type": "markdown",
      "metadata": {
        "id": "spvefWIWbNAR"
      },
      "source": [
        "---\n",
        "# **15 Command Line Argument**\n",
        "\n",
        "**Learning:** How to Take input from command line and process it\n",
        "\n",
        "**Note:** Run the program at cmd line\n",
        "\n",
        "---\n",
        "### **15.1 Add two numbers given at cmd line**\n",
        "**Note:** To run the program at cmd line\n",
        "*     python Program.py 10 20"
      ]
    },
    {
      "cell_type": "code",
      "execution_count": null,
      "metadata": {
        "id": "0ieaM9uebNAS"
      },
      "outputs": [],
      "source": [
        "import sys\n",
        "print (sys.argv)\n",
        "a = int(sys.argv[1]) \t# First Number\n",
        "b = int(sys.argv[2])\t# Second Number\n",
        "c = a + b\n",
        "print (a, \" + \", b, \" = \", c)"
      ]
    },
    {
      "cell_type": "markdown",
      "metadata": {
        "id": "jGBXdT5CbNAT"
      },
      "source": [
        "---\n",
        "### **15.2 Concatinate two strings given at cmd line**\n",
        "**Note:** To run the program at cmd line\n",
        "*   python Program.py FirstString SecondString\n",
        "\n",
        "---"
      ]
    },
    {
      "cell_type": "code",
      "execution_count": null,
      "metadata": {
        "id": "dg117QSIbNAU"
      },
      "outputs": [],
      "source": [
        "import sys\n",
        "print (sys.argv)\n",
        "s = sys.argv[1] + \" \" + sys.argv[2]\n",
        "print (sys.argv[1], \" + \", sys.argv[2], \" = \", s)"
      ]
    },
    {
      "cell_type": "markdown",
      "metadata": {
        "id": "Gtu3hMwabNAW"
      },
      "source": [
        "---\n",
        "### **15.3 Add all the numbers given at cmd line**\n",
        "**Note:** To run the program at cmd line\n",
        "*   python Program.py\n",
        "*   python Program.py 10\n",
        "*   python Program.py 10 20 30 40\n",
        "\n",
        "---"
      ]
    },
    {
      "cell_type": "code",
      "execution_count": null,
      "metadata": {
        "id": "QSHWbDHmbNAX"
      },
      "outputs": [],
      "source": [
        "import sys\n",
        "print (sys.argv)\n",
        "sum=0\n",
        "for s in sys.argv[1:]:\n",
        "\tsum += int(s)\n",
        "\n",
        "print (\"Sum is = \", sum)"
      ]
    },
    {
      "cell_type": "markdown",
      "metadata": {
        "id": "-wicdMoyfLoZ"
      },
      "source": [
        "---\n",
        "# **16 File Handling**\n",
        "\n",
        "**Learning:** How to open the file, read the file and write in the file\n",
        "\n",
        "---\n",
        "### **16.1 Writing 1 to 10 in file**"
      ]
    },
    {
      "cell_type": "code",
      "execution_count": null,
      "metadata": {
        "id": "oX-fBKbpfLob"
      },
      "outputs": [],
      "source": [
        "fp=open('result.txt','w')\t# Open the file in writing mode\n",
        "for  i in range(1,11):\n",
        "\tfp.write(str(i) + \"\\n\")\t# Writing to the file line by line\n",
        "fp.close()\n",
        "\n",
        "print (\"Writing done !! \\nOpen result.txt to view the content\")"
      ]
    },
    {
      "cell_type": "markdown",
      "metadata": {
        "id": "-6OU-QD_fLoc"
      },
      "source": [
        "---\n",
        "### **16.2 Read a file and print its content**\n",
        "---\n"
      ]
    },
    {
      "cell_type": "code",
      "execution_count": null,
      "metadata": {
        "id": "jiPQizlEfLod"
      },
      "outputs": [],
      "source": [
        "fp=open('result.txt')\t\t# Open the file in reading mode\n",
        "for line in fp: \t\t    # print line by line\n",
        "\tprint (line.strip())\n",
        "fp.close()"
      ]
    },
    {
      "cell_type": "markdown",
      "metadata": {
        "id": "Sby32ykwfLof"
      },
      "source": [
        "---\n",
        "### **16.3 Read from one file, Convert it to upper case and write to other file**\n",
        "---"
      ]
    },
    {
      "cell_type": "code",
      "execution_count": null,
      "metadata": {
        "id": "rjvJZNv_fLoh"
      },
      "outputs": [],
      "source": [
        "Readfp=open('result.txt')\t\t# Open the file in reading mode\n",
        "Writefp=open('abc.txt','w')\t# Open the file in writing mode\n",
        "for line in Readfp:\n",
        "\tWritefp.write(line.upper())\n",
        "\n",
        "Writefp.close()\n",
        "Readfp.close()\n",
        "\n",
        "print (\"Writing done !! \\nOpen result.txt to view the content\")"
      ]
    }
  ],
  "metadata": {
    "colab": {
      "provenance": []
    },
    "kernelspec": {
      "display_name": "Python 3",
      "name": "python3"
    },
    "language_info": {
      "codemirror_mode": {
        "name": "ipython",
        "version": 3
      },
      "file_extension": ".py",
      "mimetype": "text/x-python",
      "name": "python",
      "nbconvert_exporter": "python",
      "pygments_lexer": "ipython3",
      "version": "3.12.5"
    }
  },
  "nbformat": 4,
  "nbformat_minor": 0
}